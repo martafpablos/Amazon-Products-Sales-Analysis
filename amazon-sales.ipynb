{
 "cells": [
  {
   "cell_type": "code",
   "execution_count": 67,
   "id": "f4128917",
   "metadata": {},
   "outputs": [],
   "source": [
    "# Import necessary libraries\n",
    "import os\n",
    "import pandas as pd\n",
    "import seaborn as sb\n",
    "import matplotlib.pyplot as plt"
   ]
  },
  {
   "cell_type": "code",
   "execution_count": 68,
   "id": "4dc34b1f",
   "metadata": {},
   "outputs": [],
   "source": [
    "# Define the folder path containing the CSV files  \n",
    "folder_path = \"C:\\\\Users\\\\marta\\\\OneDrive\\\\Escritorio\\\\archive\"  # Cambia esto por la ruta a la carpeta donde están los archivos CSV\n",
    "all_files = os.listdir(folder_path)\n",
    "\n",
    "# Filter only csv files  \n",
    "csv_files = [f for f in all_files if f.endswith('.csv')]\n",
    "\n",
    "# Read each csv file into a dataFrame \n",
    "dfs = [pd.read_csv(os.path.join(folder_path, f)) for f in csv_files]\n",
    "\n",
    "# Concatenate all dataFrames into a single\n",
    "df = pd.concat(dfs, ignore_index=True)"
   ]
  },
  {
   "cell_type": "code",
   "execution_count": 69,
   "id": "07cce9fe",
   "metadata": {},
   "outputs": [
    {
     "data": {
      "text/html": [
       "<div>\n",
       "<style scoped>\n",
       "    .dataframe tbody tr th:only-of-type {\n",
       "        vertical-align: middle;\n",
       "    }\n",
       "\n",
       "    .dataframe tbody tr th {\n",
       "        vertical-align: top;\n",
       "    }\n",
       "\n",
       "    .dataframe thead th {\n",
       "        text-align: right;\n",
       "    }\n",
       "</style>\n",
       "<table border=\"1\" class=\"dataframe\">\n",
       "  <thead>\n",
       "    <tr style=\"text-align: right;\">\n",
       "      <th></th>\n",
       "      <th>name</th>\n",
       "      <th>main_category</th>\n",
       "      <th>sub_category</th>\n",
       "      <th>image</th>\n",
       "      <th>link</th>\n",
       "      <th>ratings</th>\n",
       "      <th>no_of_ratings</th>\n",
       "      <th>discount_price</th>\n",
       "      <th>actual_price</th>\n",
       "      <th>Unnamed: 0</th>\n",
       "    </tr>\n",
       "  </thead>\n",
       "  <tbody>\n",
       "    <tr>\n",
       "      <th>0</th>\n",
       "      <td>Lloyd 1.5 Ton 3 Star Inverter Split Ac (5 In 1...</td>\n",
       "      <td>appliances</td>\n",
       "      <td>Air Conditioners</td>\n",
       "      <td>https://m.media-amazon.com/images/I/31UISB90sY...</td>\n",
       "      <td>https://www.amazon.in/Lloyd-Inverter-Convertib...</td>\n",
       "      <td>4.2</td>\n",
       "      <td>2,255</td>\n",
       "      <td>₹32,999</td>\n",
       "      <td>₹58,990</td>\n",
       "      <td>NaN</td>\n",
       "    </tr>\n",
       "    <tr>\n",
       "      <th>1</th>\n",
       "      <td>LG 1.5 Ton 5 Star AI DUAL Inverter Split AC (C...</td>\n",
       "      <td>appliances</td>\n",
       "      <td>Air Conditioners</td>\n",
       "      <td>https://m.media-amazon.com/images/I/51JFb7FctD...</td>\n",
       "      <td>https://www.amazon.in/LG-Convertible-Anti-Viru...</td>\n",
       "      <td>4.2</td>\n",
       "      <td>2,948</td>\n",
       "      <td>₹46,490</td>\n",
       "      <td>₹75,990</td>\n",
       "      <td>NaN</td>\n",
       "    </tr>\n",
       "    <tr>\n",
       "      <th>2</th>\n",
       "      <td>LG 1 Ton 4 Star Ai Dual Inverter Split Ac (Cop...</td>\n",
       "      <td>appliances</td>\n",
       "      <td>Air Conditioners</td>\n",
       "      <td>https://m.media-amazon.com/images/I/51JFb7FctD...</td>\n",
       "      <td>https://www.amazon.in/LG-Inverter-Convertible-...</td>\n",
       "      <td>4.2</td>\n",
       "      <td>1,206</td>\n",
       "      <td>₹34,490</td>\n",
       "      <td>₹61,990</td>\n",
       "      <td>NaN</td>\n",
       "    </tr>\n",
       "    <tr>\n",
       "      <th>3</th>\n",
       "      <td>LG 1.5 Ton 3 Star AI DUAL Inverter Split AC (C...</td>\n",
       "      <td>appliances</td>\n",
       "      <td>Air Conditioners</td>\n",
       "      <td>https://m.media-amazon.com/images/I/51JFb7FctD...</td>\n",
       "      <td>https://www.amazon.in/LG-Convertible-Anti-Viru...</td>\n",
       "      <td>4.0</td>\n",
       "      <td>69</td>\n",
       "      <td>₹37,990</td>\n",
       "      <td>₹68,990</td>\n",
       "      <td>NaN</td>\n",
       "    </tr>\n",
       "    <tr>\n",
       "      <th>4</th>\n",
       "      <td>Carrier 1.5 Ton 3 Star Inverter Split AC (Copp...</td>\n",
       "      <td>appliances</td>\n",
       "      <td>Air Conditioners</td>\n",
       "      <td>https://m.media-amazon.com/images/I/41lrtqXPiW...</td>\n",
       "      <td>https://www.amazon.in/Carrier-Inverter-Split-C...</td>\n",
       "      <td>4.1</td>\n",
       "      <td>630</td>\n",
       "      <td>₹34,490</td>\n",
       "      <td>₹67,790</td>\n",
       "      <td>NaN</td>\n",
       "    </tr>\n",
       "    <tr>\n",
       "      <th>...</th>\n",
       "      <td>...</td>\n",
       "      <td>...</td>\n",
       "      <td>...</td>\n",
       "      <td>...</td>\n",
       "      <td>...</td>\n",
       "      <td>...</td>\n",
       "      <td>...</td>\n",
       "      <td>...</td>\n",
       "      <td>...</td>\n",
       "      <td>...</td>\n",
       "    </tr>\n",
       "    <tr>\n",
       "      <th>1103165</th>\n",
       "      <td>Adidas Regular Fit Men's Track Tops</td>\n",
       "      <td>sports &amp; fitness</td>\n",
       "      <td>Yoga</td>\n",
       "      <td>https://m.media-amazon.com/images/I/71tHAR9pIY...</td>\n",
       "      <td>https://www.amazon.in/Adidas-Regular-Mens-Trac...</td>\n",
       "      <td>3.2</td>\n",
       "      <td>9</td>\n",
       "      <td>₹3,449</td>\n",
       "      <td>₹4,599</td>\n",
       "      <td>NaN</td>\n",
       "    </tr>\n",
       "    <tr>\n",
       "      <th>1103166</th>\n",
       "      <td>Redwolf Noice Toit Smort - Hoodie (Black)</td>\n",
       "      <td>sports &amp; fitness</td>\n",
       "      <td>Yoga</td>\n",
       "      <td>https://m.media-amazon.com/images/I/41pKrMZ5lQ...</td>\n",
       "      <td>https://www.amazon.in/Redwolf-Noice-Smort-Cott...</td>\n",
       "      <td>2.0</td>\n",
       "      <td>2</td>\n",
       "      <td>₹1,199</td>\n",
       "      <td>₹1,999</td>\n",
       "      <td>NaN</td>\n",
       "    </tr>\n",
       "    <tr>\n",
       "      <th>1103167</th>\n",
       "      <td>Redwolf Schrute Farms B&amp;B - Hoodie (Navy Blue)</td>\n",
       "      <td>sports &amp; fitness</td>\n",
       "      <td>Yoga</td>\n",
       "      <td>https://m.media-amazon.com/images/I/41n9u+zNSc...</td>\n",
       "      <td>https://www.amazon.in/Redwolf-Schrute-Farms-Ho...</td>\n",
       "      <td>4.0</td>\n",
       "      <td>1</td>\n",
       "      <td>₹1,199</td>\n",
       "      <td>₹1,999</td>\n",
       "      <td>NaN</td>\n",
       "    </tr>\n",
       "    <tr>\n",
       "      <th>1103168</th>\n",
       "      <td>Puma Men Shorts</td>\n",
       "      <td>sports &amp; fitness</td>\n",
       "      <td>Yoga</td>\n",
       "      <td>https://m.media-amazon.com/images/I/51LoWv5JDt...</td>\n",
       "      <td>https://www.amazon.in/Puma-Woven-Short-5208526...</td>\n",
       "      <td>4.4</td>\n",
       "      <td>37</td>\n",
       "      <td>NaN</td>\n",
       "      <td>NaN</td>\n",
       "      <td>NaN</td>\n",
       "    </tr>\n",
       "    <tr>\n",
       "      <th>1103169</th>\n",
       "      <td>Mothercare Printed Cotton Elastane Girls Infan...</td>\n",
       "      <td>sports &amp; fitness</td>\n",
       "      <td>Yoga</td>\n",
       "      <td>https://m.media-amazon.com/images/I/814X-sI3DB...</td>\n",
       "      <td>https://www.amazon.in/Mothercare-Carrot-Regula...</td>\n",
       "      <td>4.6</td>\n",
       "      <td>5</td>\n",
       "      <td>₹1,039</td>\n",
       "      <td>₹1,299</td>\n",
       "      <td>NaN</td>\n",
       "    </tr>\n",
       "  </tbody>\n",
       "</table>\n",
       "<p>1103170 rows × 10 columns</p>\n",
       "</div>"
      ],
      "text/plain": [
       "                                                      name     main_category  \\\n",
       "0        Lloyd 1.5 Ton 3 Star Inverter Split Ac (5 In 1...        appliances   \n",
       "1        LG 1.5 Ton 5 Star AI DUAL Inverter Split AC (C...        appliances   \n",
       "2        LG 1 Ton 4 Star Ai Dual Inverter Split Ac (Cop...        appliances   \n",
       "3        LG 1.5 Ton 3 Star AI DUAL Inverter Split AC (C...        appliances   \n",
       "4        Carrier 1.5 Ton 3 Star Inverter Split AC (Copp...        appliances   \n",
       "...                                                    ...               ...   \n",
       "1103165                Adidas Regular Fit Men's Track Tops  sports & fitness   \n",
       "1103166          Redwolf Noice Toit Smort - Hoodie (Black)  sports & fitness   \n",
       "1103167     Redwolf Schrute Farms B&B - Hoodie (Navy Blue)  sports & fitness   \n",
       "1103168                                    Puma Men Shorts  sports & fitness   \n",
       "1103169  Mothercare Printed Cotton Elastane Girls Infan...  sports & fitness   \n",
       "\n",
       "             sub_category                                              image  \\\n",
       "0        Air Conditioners  https://m.media-amazon.com/images/I/31UISB90sY...   \n",
       "1        Air Conditioners  https://m.media-amazon.com/images/I/51JFb7FctD...   \n",
       "2        Air Conditioners  https://m.media-amazon.com/images/I/51JFb7FctD...   \n",
       "3        Air Conditioners  https://m.media-amazon.com/images/I/51JFb7FctD...   \n",
       "4        Air Conditioners  https://m.media-amazon.com/images/I/41lrtqXPiW...   \n",
       "...                   ...                                                ...   \n",
       "1103165              Yoga  https://m.media-amazon.com/images/I/71tHAR9pIY...   \n",
       "1103166              Yoga  https://m.media-amazon.com/images/I/41pKrMZ5lQ...   \n",
       "1103167              Yoga  https://m.media-amazon.com/images/I/41n9u+zNSc...   \n",
       "1103168              Yoga  https://m.media-amazon.com/images/I/51LoWv5JDt...   \n",
       "1103169              Yoga  https://m.media-amazon.com/images/I/814X-sI3DB...   \n",
       "\n",
       "                                                      link ratings  \\\n",
       "0        https://www.amazon.in/Lloyd-Inverter-Convertib...     4.2   \n",
       "1        https://www.amazon.in/LG-Convertible-Anti-Viru...     4.2   \n",
       "2        https://www.amazon.in/LG-Inverter-Convertible-...     4.2   \n",
       "3        https://www.amazon.in/LG-Convertible-Anti-Viru...     4.0   \n",
       "4        https://www.amazon.in/Carrier-Inverter-Split-C...     4.1   \n",
       "...                                                    ...     ...   \n",
       "1103165  https://www.amazon.in/Adidas-Regular-Mens-Trac...     3.2   \n",
       "1103166  https://www.amazon.in/Redwolf-Noice-Smort-Cott...     2.0   \n",
       "1103167  https://www.amazon.in/Redwolf-Schrute-Farms-Ho...     4.0   \n",
       "1103168  https://www.amazon.in/Puma-Woven-Short-5208526...     4.4   \n",
       "1103169  https://www.amazon.in/Mothercare-Carrot-Regula...     4.6   \n",
       "\n",
       "        no_of_ratings discount_price actual_price  Unnamed: 0  \n",
       "0               2,255        ₹32,999      ₹58,990         NaN  \n",
       "1               2,948        ₹46,490      ₹75,990         NaN  \n",
       "2               1,206        ₹34,490      ₹61,990         NaN  \n",
       "3                  69        ₹37,990      ₹68,990         NaN  \n",
       "4                 630        ₹34,490      ₹67,790         NaN  \n",
       "...               ...            ...          ...         ...  \n",
       "1103165             9         ₹3,449       ₹4,599         NaN  \n",
       "1103166             2         ₹1,199       ₹1,999         NaN  \n",
       "1103167             1         ₹1,199       ₹1,999         NaN  \n",
       "1103168            37            NaN          NaN         NaN  \n",
       "1103169             5         ₹1,039       ₹1,299         NaN  \n",
       "\n",
       "[1103170 rows x 10 columns]"
      ]
     },
     "execution_count": 69,
     "metadata": {},
     "output_type": "execute_result"
    }
   ],
   "source": [
    "# Exploring the dataset\n",
    "df"
   ]
  },
  {
   "cell_type": "code",
   "execution_count": 70,
   "id": "ef0334a6",
   "metadata": {},
   "outputs": [
    {
     "name": "stdout",
     "output_type": "stream",
     "text": [
      "name               object\n",
      "main_category      object\n",
      "sub_category       object\n",
      "image              object\n",
      "link               object\n",
      "ratings           float64\n",
      "no_of_ratings     float64\n",
      "discount_price    float64\n",
      "actual_price      float64\n",
      "Unnamed: 0        float64\n",
      "dtype: object\n"
     ]
    }
   ],
   "source": [
    "# Remove currency symbols (₹) and commas before converting to numeric\n",
    "df['discount_price'] = pd.to_numeric(df['discount_price'].replace({r'[₹,]': '', r'\\s+': ''}, regex=True), errors='coerce')\n",
    "df['actual_price'] = pd.to_numeric(df['actual_price'].replace({r'[₹,]': '', r'\\s+': ''}, regex=True), errors='coerce')\n",
    "\n",
    "# Convert ratings and number of ratings to numeric (removing commas and extra spaces)\n",
    "df['ratings'] = pd.to_numeric(df['ratings'].replace({r',': ''}, regex=True), errors='coerce')\n",
    "df['no_of_ratings'] = pd.to_numeric(df['no_of_ratings'].replace({r',': '', r'\\s+': ''}, regex=True), errors='coerce')\n",
    "\n",
    "# Check data types after conversion\n",
    "print(df.dtypes)\n"
   ]
  },
  {
   "cell_type": "code",
   "execution_count": 71,
   "id": "bc4ad9a2",
   "metadata": {},
   "outputs": [],
   "source": [
    "# Drop unnecessary columns ('image', 'link', and 'Unnamed: 0') as they are not needed for analysis\n",
    "df.drop(columns=['image', 'link','Unnamed: 0'],inplace=True)"
   ]
  },
  {
   "cell_type": "code",
   "execution_count": 72,
   "id": "3b217bd3",
   "metadata": {},
   "outputs": [
    {
     "data": {
      "text/plain": [
       "name                   0\n",
       "main_category          0\n",
       "sub_category           0\n",
       "ratings           364054\n",
       "no_of_ratings     364054\n",
       "discount_price    122326\n",
       "actual_price       35626\n",
       "dtype: int64"
      ]
     },
     "execution_count": 72,
     "metadata": {},
     "output_type": "execute_result"
    }
   ],
   "source": [
    "# Check the number of NaN values in each column to decide how to handle them\n",
    "df.isnull().sum()"
   ]
  },
  {
   "cell_type": "code",
   "execution_count": 73,
   "id": "b981d827",
   "metadata": {},
   "outputs": [
    {
     "data": {
      "text/html": [
       "<div>\n",
       "<style scoped>\n",
       "    .dataframe tbody tr th:only-of-type {\n",
       "        vertical-align: middle;\n",
       "    }\n",
       "\n",
       "    .dataframe tbody tr th {\n",
       "        vertical-align: top;\n",
       "    }\n",
       "\n",
       "    .dataframe thead th {\n",
       "        text-align: right;\n",
       "    }\n",
       "</style>\n",
       "<table border=\"1\" class=\"dataframe\">\n",
       "  <thead>\n",
       "    <tr style=\"text-align: right;\">\n",
       "      <th></th>\n",
       "      <th>ratings</th>\n",
       "      <th>no_of_ratings</th>\n",
       "      <th>discount_price</th>\n",
       "      <th>actual_price</th>\n",
       "    </tr>\n",
       "  </thead>\n",
       "  <tbody>\n",
       "    <tr>\n",
       "      <th>count</th>\n",
       "      <td>739116.000000</td>\n",
       "      <td>739116.000000</td>\n",
       "      <td>9.808440e+05</td>\n",
       "      <td>1.067544e+06</td>\n",
       "    </tr>\n",
       "    <tr>\n",
       "      <th>mean</th>\n",
       "      <td>3.832311</td>\n",
       "      <td>840.778698</td>\n",
       "      <td>2.623161e+03</td>\n",
       "      <td>2.311128e+04</td>\n",
       "    </tr>\n",
       "    <tr>\n",
       "      <th>std</th>\n",
       "      <td>0.756101</td>\n",
       "      <td>8651.530166</td>\n",
       "      <td>9.458191e+03</td>\n",
       "      <td>1.355081e+07</td>\n",
       "    </tr>\n",
       "    <tr>\n",
       "      <th>min</th>\n",
       "      <td>1.000000</td>\n",
       "      <td>1.000000</td>\n",
       "      <td>8.000000e+00</td>\n",
       "      <td>0.000000e+00</td>\n",
       "    </tr>\n",
       "    <tr>\n",
       "      <th>25%</th>\n",
       "      <td>3.500000</td>\n",
       "      <td>4.000000</td>\n",
       "      <td>3.890000e+02</td>\n",
       "      <td>9.900000e+02</td>\n",
       "    </tr>\n",
       "    <tr>\n",
       "      <th>50%</th>\n",
       "      <td>3.900000</td>\n",
       "      <td>20.000000</td>\n",
       "      <td>6.790000e+02</td>\n",
       "      <td>1.599000e+03</td>\n",
       "    </tr>\n",
       "    <tr>\n",
       "      <th>75%</th>\n",
       "      <td>4.300000</td>\n",
       "      <td>133.000000</td>\n",
       "      <td>1.399000e+03</td>\n",
       "      <td>2.999000e+03</td>\n",
       "    </tr>\n",
       "    <tr>\n",
       "      <th>max</th>\n",
       "      <td>5.000000</td>\n",
       "      <td>589547.000000</td>\n",
       "      <td>1.249990e+06</td>\n",
       "      <td>9.900000e+09</td>\n",
       "    </tr>\n",
       "  </tbody>\n",
       "</table>\n",
       "</div>"
      ],
      "text/plain": [
       "             ratings  no_of_ratings  discount_price  actual_price\n",
       "count  739116.000000  739116.000000    9.808440e+05  1.067544e+06\n",
       "mean        3.832311     840.778698    2.623161e+03  2.311128e+04\n",
       "std         0.756101    8651.530166    9.458191e+03  1.355081e+07\n",
       "min         1.000000       1.000000    8.000000e+00  0.000000e+00\n",
       "25%         3.500000       4.000000    3.890000e+02  9.900000e+02\n",
       "50%         3.900000      20.000000    6.790000e+02  1.599000e+03\n",
       "75%         4.300000     133.000000    1.399000e+03  2.999000e+03\n",
       "max         5.000000  589547.000000    1.249990e+06  9.900000e+09"
      ]
     },
     "execution_count": 73,
     "metadata": {},
     "output_type": "execute_result"
    }
   ],
   "source": [
    "# Generate summary statistics for numerical columns \n",
    "df.describe()"
   ]
  },
  {
   "cell_type": "code",
   "execution_count": 74,
   "id": "686f005e",
   "metadata": {},
   "outputs": [
    {
     "name": "stdout",
     "output_type": "stream",
     "text": [
      "54815.22724\n"
     ]
    }
   ],
   "source": [
    "# QUESTION 1: What is the average price of Air Conditioners?\n",
    "# Filter products in the 'Air Conditioner' sub-category\n",
    "ac_df = df[df['sub_category'].str.contains('Air Conditioner', case=False, na=False)]\n",
    "\n",
    "# Calculate the average actual price\n",
    "precio_promedio_ac = ac_df['actual_price'].mean()\n",
    "print(precio_promedio_ac)"
   ]
  },
  {
   "cell_type": "code",
   "execution_count": 75,
   "id": "482cea41",
   "metadata": {},
   "outputs": [
    {
     "name": "stdout",
     "output_type": "stream",
     "text": [
      "40756.00656455142\n"
     ]
    }
   ],
   "source": [
    "# Calculate the average discounted price of Air Conditioners\n",
    "precio_promedio_ac = ac_df['discount_price'].mean()\n",
    "print(precio_promedio_ac)"
   ]
  },
  {
   "cell_type": "code",
   "execution_count": 76,
   "id": "2b30c905",
   "metadata": {
    "scrolled": true
   },
   "outputs": [
    {
     "name": "stdout",
     "output_type": "stream",
     "text": [
      "38725.54924\n"
     ]
    }
   ],
   "source": [
    "# Calculate the average of the discount price, filling NaN values with the actual price\n",
    "media_total = (ac_df['discount_price'].fillna(ac_df['actual_price']).mean())\n",
    "\n",
    "print(media_total)"
   ]
  },
  {
   "cell_type": "code",
   "execution_count": 77,
   "id": "f4e6bce3",
   "metadata": {},
   "outputs": [],
   "source": [
    "# The average price of Air Conditioners, taking the discount_price and actual_price if no discount is available, \n",
    "# is ₹38,725.55"
   ]
  },
  {
   "cell_type": "code",
   "execution_count": 78,
   "id": "90833c4e",
   "metadata": {},
   "outputs": [
    {
     "name": "stdout",
     "output_type": "stream",
     "text": [
      "Categories with the highest prices:\n",
      "main_category\n",
      "home & kitchen         9.900000e+09\n",
      "sports & fitness       6.108299e+07\n",
      "tv, audio & cameras    1.594900e+06\n",
      "accessories            1.200000e+06\n",
      "stores                 1.200000e+06\n",
      "Name: actual_price, dtype: float64\n"
     ]
    }
   ],
   "source": [
    "# QUESTION 2: Which categories contain products with the highest prices?\n",
    "# Group by category and calculate the maximum price\n",
    "max_price_category = df.groupby('main_category')['actual_price'].max().sort_values(ascending=False)\n",
    "\n",
    "# Display the categories with the highest prices\n",
    "print(\"Categories with the highest prices:\")\n",
    "print(max_price_category.head())"
   ]
  },
  {
   "cell_type": "code",
   "execution_count": 79,
   "id": "0bffd017",
   "metadata": {},
   "outputs": [
    {
     "name": "stdout",
     "output_type": "stream",
     "text": [
      "Categories with the highest prices:\n",
      "main_category\n",
      "tv, audio & cameras    1249990.0\n",
      "accessories             499999.0\n",
      "stores                  406009.0\n",
      "kids' fashion           406009.0\n",
      "appliances              230000.0\n",
      "Name: final_price, dtype: float64\n"
     ]
    }
   ],
   "source": [
    "# Create a new column 'final_price' by filling NaN values in 'discount_price' with 'actual_price'\n",
    "df['final_price'] = df['discount_price'].fillna(df['actual_price'])\n",
    "\n",
    "# Group by category and calculate the maximum price using the 'final_price'\n",
    "max_price_category = df.groupby('main_category')['final_price'].max().sort_values(ascending=False)\n",
    "\n",
    "# Display the categories with the highest prices\n",
    "print(\"Categories with the highest prices:\")\n",
    "print(max_price_category.head())\n"
   ]
  },
  {
   "cell_type": "code",
   "execution_count": 80,
   "id": "a16c64b3",
   "metadata": {},
   "outputs": [],
   "source": [
    "# The category with the highest prices, taking the discount_price and actual_price if no discount is available, \n",
    "# is 'TV, Audio & Cameras'"
   ]
  },
  {
   "cell_type": "code",
   "execution_count": 81,
   "id": "d6e04611",
   "metadata": {
    "scrolled": true
   },
   "outputs": [
    {
     "name": "stdout",
     "output_type": "stream",
     "text": [
      "Correlation between price and ratings: 0.07883656891609363\n"
     ]
    },
    {
     "data": {
      "image/png": "[encoded data removed]",
      "text/plain": [
       "<Figure size 1000x600 with 1 Axes>"
      ]
     },
     "metadata": {},
     "output_type": "display_data"
    }
   ],
   "source": [
    "# QUESTION 3: Is there a correlation between price and ratings for the products?\n",
    "# Calculate the correlation between final price and ratings\n",
    "correlation = df['final_price'].corr(df['ratings'])\n",
    "print(f\"Correlation between price and ratings: {correlation}\")\n",
    "\n",
    "# Visualize the relationship between price and ratings\n",
    "plt.figure(figsize=(10, 6))\n",
    "sb.scatterplot(data=df, x='ratings', y='final_price')\n",
    "plt.title('Correlation between Price and Ratings')\n",
    "plt.xlabel('Ratings')\n",
    "plt.ylabel('Price')\n",
    "plt.show()\n"
   ]
  },
  {
   "cell_type": "code",
   "execution_count": 82,
   "id": "ebcfd644",
   "metadata": {},
   "outputs": [],
   "source": [
    "# The correlation between price and ratings is 0.0788, which is a very weak positive correlation. \n",
    "# However, from the scatter plot, we can observe a slight trend where higher prices tend to have higher ratings, \n",
    "# although this relationship is not strong.\n"
   ]
  },
  {
   "cell_type": "code",
   "execution_count": 83,
   "id": "0163e7f7",
   "metadata": {},
   "outputs": [
    {
     "name": "stdout",
     "output_type": "stream",
     "text": [
      "Price ranges by subcategory:\n",
      "                                 min       max\n",
      "sub_category                                  \n",
      "Air Conditioners              199.00  128800.0\n",
      "All Appliances                 20.00   83990.0\n",
      "All Car & Motorbike Products   33.00   27007.0\n",
      "All Electronics                10.00  149900.0\n",
      "All Exercise & Fitness         51.92   29990.0\n",
      "...                              ...       ...\n",
      "Washing Machines               99.00  230000.0\n",
      "Watches                        99.00  113750.0\n",
      "Western Wear                   90.00   49999.0\n",
      "Women's Fashion                27.00   64111.0\n",
      "Yoga                          115.52   16614.0\n",
      "\n",
      "[112 rows x 2 columns]\n"
     ]
    }
   ],
   "source": [
    "# QUESTION 4: What is the price range depending on the subcategory type?\n",
    "# Group by subcategory and calculate the price range (min and max) using the final price\n",
    "price_range_subcategory = df.groupby('sub_category')['final_price'].agg(['min', 'max'])\n",
    "\n",
    "# Display the price ranges by subcategory\n",
    "print(\"Price ranges by subcategory:\")\n",
    "print(price_range_subcategory)\n"
   ]
  },
  {
   "cell_type": "code",
   "execution_count": 84,
   "id": "03a4e6ce",
   "metadata": {},
   "outputs": [],
   "source": [
    "# The price ranges (min and max) vary significantly across different subcategories. \n",
    "# For example, the 'Air Conditioners' subcategory has a price range from ₹199 to ₹128,800, \n",
    "# while 'Washing Machines' ranges from ₹99 to ₹230,000. \n",
    "# This indicates that the products within each subcategory can have wide price variations.\n"
   ]
  },
  {
   "cell_type": "code",
   "execution_count": null,
   "id": "2c786758",
   "metadata": {},
   "outputs": [],
   "source": []
  }
 ],
 "metadata": {
  "kernelspec": {
   "display_name": "Python 3 (ipykernel)",
   "language": "python",
   "name": "python3"
  },
  "language_info": {
   "codemirror_mode": {
    "name": "ipython",
    "version": 3
   },
   "file_extension": ".py",
   "mimetype": "text/x-python",
   "name": "python",
   "nbconvert_exporter": "python",
   "pygments_lexer": "ipython3",
   "version": "3.11.5"
  }
 },
 "nbformat": 4,
 "nbformat_minor": 5
}
